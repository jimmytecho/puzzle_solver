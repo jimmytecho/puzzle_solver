{
 "cells": [
  {
   "cell_type": "code",
   "execution_count": 66,
   "metadata": {
    "collapsed": false
   },
   "outputs": [
    {
     "ename": "NameError",
     "evalue": "name 'WINDOW_NORMAL' is not defined",
     "output_type": "error",
     "traceback": [
      "\u001b[0;31m---------------------------------------------------------------------------\u001b[0m",
      "\u001b[0;31mNameError\u001b[0m                                 Traceback (most recent call last)",
      "\u001b[0;32m<ipython-input-66-fe7cbbdc39f2>\u001b[0m in \u001b[0;36m<module>\u001b[0;34m()\u001b[0m\n\u001b[1;32m      5\u001b[0m \u001b[0mblank_page\u001b[0m \u001b[1;33m=\u001b[0m \u001b[0mnp\u001b[0m\u001b[1;33m.\u001b[0m\u001b[0mzeros\u001b[0m\u001b[1;33m(\u001b[0m\u001b[1;33m(\u001b[0m\u001b[1;36m800\u001b[0m\u001b[1;33m,\u001b[0m\u001b[1;36m1300\u001b[0m\u001b[1;33m,\u001b[0m\u001b[1;36m3\u001b[0m\u001b[1;33m)\u001b[0m\u001b[1;33m,\u001b[0m \u001b[0mnp\u001b[0m\u001b[1;33m.\u001b[0m\u001b[0muint8\u001b[0m\u001b[1;33m)\u001b[0m\u001b[1;33m\u001b[0m\u001b[0m\n\u001b[1;32m      6\u001b[0m \u001b[0mblank_page\u001b[0m\u001b[1;33m[\u001b[0m\u001b[1;33m:\u001b[0m\u001b[1;33m]\u001b[0m \u001b[1;33m=\u001b[0m \u001b[1;33m(\u001b[0m\u001b[1;36m255\u001b[0m\u001b[1;33m,\u001b[0m\u001b[1;36m255\u001b[0m\u001b[1;33m,\u001b[0m\u001b[1;36m255\u001b[0m\u001b[1;33m)\u001b[0m\u001b[1;33m\u001b[0m\u001b[0m\n\u001b[0;32m----> 7\u001b[0;31m \u001b[0mcv2\u001b[0m\u001b[1;33m.\u001b[0m\u001b[0mnamedWindow\u001b[0m\u001b[1;33m(\u001b[0m\u001b[0mblank_page\u001b[0m\u001b[1;33m,\u001b[0m \u001b[0mWINDOW_NORMAL\u001b[0m\u001b[1;33m)\u001b[0m\u001b[1;33m\u001b[0m\u001b[0m\n\u001b[0m\u001b[1;32m      8\u001b[0m \u001b[0mcv2\u001b[0m\u001b[1;33m.\u001b[0m\u001b[0mwaitKey\u001b[0m\u001b[1;33m(\u001b[0m\u001b[1;36m0\u001b[0m\u001b[1;33m)\u001b[0m\u001b[1;33m\u001b[0m\u001b[0m\n\u001b[1;32m      9\u001b[0m \u001b[0mcv2\u001b[0m\u001b[1;33m.\u001b[0m\u001b[0mdestroyAllWindows\u001b[0m\u001b[1;33m(\u001b[0m\u001b[1;33m)\u001b[0m\u001b[1;33m\u001b[0m\u001b[0m\n",
      "\u001b[0;31mNameError\u001b[0m: name 'WINDOW_NORMAL' is not defined"
     ]
    }
   ],
   "source": [
    "###半手動版本###\n",
    "\n",
    "import cv2 \n",
    "import numpy as np\n",
    "blank_page = np.zeros((800,1300,3), np.uint8)\n",
    "blank_page[:] = (255,255,255) \n",
    "cv2.namedWindow(blank_page, WINDOW_NORMAL)\n",
    "cv2.waitKey(0)\n",
    "cv2.destroyAllWindows()"
   ]
  },
  {
   "cell_type": "code",
   "execution_count": 68,
   "metadata": {
    "collapsed": false
   },
   "outputs": [
    {
     "name": "stdout",
     "output_type": "stream",
     "text": [
      "Number of Contours found = 35\n",
      "(521L, 736L, 3L)\n"
     ]
    }
   ],
   "source": [
    "import cv2 \n",
    "import numpy as np\n",
    "\n",
    "### Produce puzzle pieces from full puzzle ###\n",
    "\n",
    "# Load the complete puzzle\n",
    "puzzle_original = cv2.imread('C:\\\\Users\\\\user\\\\Desktop\\\\resume\\\\OpenCV\\\\puzzle.jpg')\n",
    "ret,puzzle_thresh = cv2.threshold(puzzle_original, 200, 255, cv2.THRESH_BINARY)\n",
    "\n",
    "kernel = np.ones((1,1), np.uint8)\n",
    "puzzle_thickline = cv2.erode(puzzle_thresh, kernel, iterations = 1)\n",
    "puzzle_gray = cv2.cvtColor(puzzle_thickline,cv2.COLOR_BGR2GRAY)\n",
    "cv2.line(puzzle_gray, (734,0), (734,521), (0,0,0), 2)\n",
    "cv2.line(puzzle_gray, (0,519), (736,519), (0,0,0), 2)\n",
    "contours, hierarchy = cv2.findContours(puzzle_gray, cv2.RETR_EXTERNAL, cv2.CHAIN_APPROX_NONE)\n",
    "\n",
    "print(\"Number of Contours found = \" + str(len(contours)))\n",
    "print puzzle_original.shape\n",
    "\n",
    "for i in range(len(contours)):\n",
    "    image = np.zeros((521,736,3), np.uint8)\n",
    "    image[:] = (255,255,255) \n",
    "    cv2.drawContours(image, contours, i, (0,0,0), -1)\n",
    "    file = \"C:\\\\Users\\\\user\\\\Desktop\\\\resume\\\\OpenCV\\\\puzzle_piece_cheat\" + str(i) + \".jpg\"\n",
    "    cv2.imwrite(file, image)\n",
    "    a = c = contours[i][1][0][0] #a is right boarder, c is left boarder\n",
    "    b = d = contours[i][1][0][1] #b is top, d is bottom\n",
    "    for j in range(len(contours[i])):\n",
    "        if contours[i][j][0][0] > a:\n",
    "            a = contours[i][j][0][0]\n",
    "        if contours[i][j][0][0] < c:\n",
    "            c = contours[i][j][0][0]\n",
    "        if contours[i][j][0][1] > b:\n",
    "            b = contours[i][j][0][1]\n",
    "        if contours[i][j][0][1] < d:\n",
    "            d = contours[i][j][0][1]\n",
    "    image = image[d:b , c:a]\n",
    "    file = \"C:\\\\Users\\\\user\\\\Desktop\\\\resume\\\\OpenCV\\\\puzzle_piece\" + str(i) + \".jpg\"\n",
    "    cv2.imwrite(file, image)\n",
    "\n",
    "\n",
    "### Solve puzzle again from pieces ###\n",
    "    \n",
    "x = 10\n",
    "y = 10\n",
    "blank_page = np.zeros((800,1300,3), np.uint8)\n",
    "blank_page[:] = (255,255,255) \n",
    "for i in range(35):\n",
    "    a_piece = cv2.imread('C:\\\\Users\\\\user\\\\Desktop\\\\resume\\\\OpenCV\\\\puzzle_piece'+str(i)+'.jpg')\n",
    "    blank_page[y:y+a_piece.shape[0], x:x+a_piece.shape[1]] = a_piece\n",
    "    x+=a_piece.shape[1]+5\n",
    "    if x > 1100:\n",
    "        x = 10\n",
    "        y += 200\n",
    "#blank page have all the pieces\n",
    "file = \"C:\\\\Users\\\\user\\\\Desktop\\\\resume\\\\OpenCV\\\\blank_page.jpg\"\n",
    "cv2.imwrite(file, blank_page)\n",
    "\n",
    "#test piece 4\n",
    "##need to find the corner\n",
    "\n",
    "piece4 = cv2.imread('C:\\\\Users\\\\user\\\\Desktop\\\\resume\\\\OpenCV\\\\puzzle_piece4.jpg')\n",
    "template = np.zeros((10+piece4.shape[0]/3,piece4.shape[1]-10,3), np.uint8)\n",
    "template[:] = (255,255,255)\n",
    "template[10:10 + piece4.shape[0]/3, 0:piece4.shape[1]-10] = piece4[0:piece4.shape[0]/3, 10:piece4.shape[1]]\n",
    "ret,template = cv2.threshold(template, 127, 255, cv2.THRESH_BINARY_INV)\n",
    "cv2.imshow('the template', template)\n",
    "cv2.waitKey(0)\n",
    "\n",
    "###match template\n",
    "# Load input image and convert to grayscale\n",
    "image = blank_page\n",
    "cv2.imshow('Where is Waldo?', image)\n",
    "cv2.waitKey(0)\n",
    "gray = cv2.cvtColor(image, cv2.COLOR_BGR2GRAY)\n",
    "\n",
    "# Load Template image\n",
    "template = cv2.cvtColor(template, cv2.COLOR_BGR2GRAY)\n",
    "\n",
    "result = cv2.matchTemplate(gray, template, cv2.TM_CCOEFF)\n",
    "min_val, max_val, min_loc, max_loc = cv2.minMaxLoc(result)\n",
    "\n",
    "#Create Bounding Box\n",
    "top_left = max_loc\n",
    "bottom_right = (top_left[0] + 50, top_left[1] + 50)\n",
    "cv2.rectangle(image, top_left, bottom_right, (0,0,255), 5)\n",
    "\n",
    "cv2.imshow('result', image)\n",
    "cv2.waitKey(0)\n",
    "cv2.destroyAllWindows()\n",
    "\n",
    "\n"
   ]
  },
  {
   "cell_type": "code",
   "execution_count": null,
   "metadata": {
    "collapsed": true
   },
   "outputs": [],
   "source": []
  },
  {
   "cell_type": "code",
   "execution_count": 56,
   "metadata": {
    "collapsed": false
   },
   "outputs": [
    {
     "name": "stdout",
     "output_type": "stream",
     "text": [
      "[  0.00000000e+00   0.00000000e+00   0.00000000e+00   0.00000000e+00\n",
      "   0.00000000e+00   0.00000000e+00   0.00000000e+00   0.00000000e+00\n",
      "   0.00000000e+00   0.00000000e+00   0.00000000e+00   0.00000000e+00\n",
      "   0.00000000e+00   0.00000000e+00   0.00000000e+00   0.00000000e+00\n",
      "   0.00000000e+00   0.00000000e+00   0.00000000e+00   0.00000000e+00\n",
      "   0.00000000e+00  -1.22050028e-02  -2.46199258e-02  -2.11119395e+04\n",
      "  -6.50308125e+05  -3.14311450e+06  -9.56687800e+06  -2.70711920e+07\n",
      "  -4.84622920e+07  -6.94552640e+07  -8.85834720e+07  -1.01518248e+08\n",
      "  -1.16175528e+08  -1.40486608e+08  -1.67418016e+08  -1.82815392e+08\n",
      "  -1.86198544e+08  -1.67448400e+08  -1.40473632e+08  -1.17240624e+08\n",
      "  -8.29505520e+07  -4.98172200e+07  -2.28844780e+07  -6.67375700e+06\n",
      "  -1.04993150e+06  -5.01596500e+05  -3.13701100e+06  -8.35749350e+06\n",
      "  -1.62845460e+07  -2.71650340e+07  -3.37718880e+07  -3.38260040e+07\n",
      "  -3.38260040e+07  -3.04955260e+07  -3.93339360e+07  -5.28899920e+07\n",
      "  -6.90805040e+07  -8.80389600e+07  -1.12564080e+08  -1.12771024e+08\n",
      "  -8.84521920e+07  -6.36552560e+07  -3.68266880e+07  -1.93041640e+07\n",
      "  -1.80608620e+07  -5.06322320e+07  -9.58563200e+07  -1.06580624e+08\n",
      "  -1.00710720e+08  -5.41351320e+07  -1.27223840e+07  -6.49388125e+05\n",
      "  -8.26410949e-04  -1.83535777e-02  -1.77617156e-04  -4.69930370e-08\n",
      "  -4.69930370e-08  -4.69930370e-08  -4.69930370e-08  -4.69930370e-08\n",
      "  -4.69930370e-08  -4.69930370e-08  -4.69930370e-08  -4.69930370e-08\n",
      "  -4.69930370e-08  -4.69930370e-08  -4.69930370e-08  -4.69930370e-08\n",
      "  -4.69930370e-08  -4.69930370e-08  -4.69930370e-08  -4.69930370e-08\n",
      "  -4.69930370e-08  -4.61955089e-03  -2.18205371e+04  -2.48576700e+06\n",
      "  -1.97252660e+07  -7.03386480e+07  -1.19478224e+08  -1.21714192e+08\n",
      "  -9.26664800e+07  -4.65127760e+07  -9.11602000e+06  -1.20131469e+05\n",
      "   1.31722689e-02   5.28889894e-02   4.08721566e-02  -1.28725719e+05\n",
      "  -7.29012000e+05  -6.60454100e+06  -2.32751560e+07  -4.48207160e+07\n",
      "  -9.93672000e+07  -1.41715696e+08  -1.67992832e+08  -1.86198544e+08\n",
      "  -1.82815392e+08  -1.67460992e+08  -1.36735648e+08  -1.07334160e+08\n",
      "  -6.95742480e+07  -4.83015960e+07  -2.69662240e+07  -9.52069400e+06\n",
      "  -3.10412500e+06  -6.38396875e+05  -2.14107559e+04   1.76390469e-01\n",
      "   7.50039816e-02   5.79303503e-02   6.01192415e-02   7.39763677e-02\n",
      "   2.67018080e-02   7.51948655e-02   2.75960267e-02   2.79095173e-02\n",
      "   2.60498971e-02  -4.48831171e-03  -1.64081575e-06  -2.65505289e-08\n",
      "  -2.65505289e-08  -2.65505289e-08  -2.65505289e-08  -2.65505289e-08\n",
      "  -2.65505289e-08  -2.65505289e-08  -2.65505289e-08  -2.65505289e-08]\n"
     ]
    }
   ],
   "source": [
    "### use contour!###\n",
    "import cv2\n",
    "import numpy as np\n",
    "\n",
    "# Load image then grayscale\n",
    "image = cv2.imread('C:\\\\Users\\\\user\\\\Desktop\\\\resume\\\\OpenCV\\\\puzzle_piece1.jpg')\n",
    "gray = cv2.cvtColor(image, cv2.COLOR_BGR2GRAY)\n",
    "\n",
    "# The cornerHarris function requires the array datatype to be float32\n",
    "gray = np.float32(gray)\n",
    "\n",
    "harris_corners = cv2.cornerHarris(gray, 5, 3, 0.2)\n",
    "\n",
    "# Threshold for an optimal value, it may vary depending on the image.\n",
    "image[harris_corners > 0.025 * harris_corners.max() ] = [255, 127, 127]\n",
    "\n",
    "cv2.imshow('Harris Corners', harris_corners)\n",
    "cv2.waitKey(0)\n",
    "\n",
    "print harris_corners[1][]\n",
    "\n",
    "cv2.imshow('Harris Corners', image)\n",
    "cv2.waitKey(0)\n",
    "cv2.destroyAllWindows()\n"
   ]
  },
  {
   "cell_type": "code",
   "execution_count": 42,
   "metadata": {
    "collapsed": false
   },
   "outputs": [],
   "source": [
    "###  TEST CASE FOR SEARCH ALGORITHM! ###\n",
    "### fail ###\n",
    "\n",
    "import cv2\n",
    "import numpy as np\n",
    "x = 10\n",
    "y = 10\n",
    "blank_page = np.zeros((1500,1500,3), np.uint8)\n",
    "blank_page[:] = (255,255,255) \n",
    "for i in range(35):\n",
    "    a_piece = cv2.imread('C:\\\\Users\\\\user\\\\Desktop\\\\resume\\\\OpenCV\\\\puzzle_piece'+str(i)+'.jpg')\n",
    "    blank_page[y:y+a_piece.shape[0], x:x+a_piece.shape[1]] = a_piece\n",
    "    x+=a_piece.shape[1]+5\n",
    "    if x > 1200:\n",
    "        x = 10\n",
    "        y += 200\n",
    "gray = cv2.cvtColor(blank_page, cv2.COLOR_BGR2GRAY)\n",
    "template = cv2.imread('C:\\\\Users\\\\user\\\\Desktop\\\\resume\\\\OpenCV\\\\puzzle_piece2.jpg',0)\n",
    "result = cv2.matchTemplate(gray, template, cv2.TM_CCOEFF)\n",
    "min_val, max_val, min_loc, max_loc = cv2.minMaxLoc(result)\n",
    "top_left = max_loc\n",
    "blank_page[top_left[1]:top_left[1]+template.shape[0], top_left[0]:top_left[0] + template.shape[1]] = (255,255,255)\n",
    "\n",
    "## now find the piece!\n",
    "template = cv2.imread('C:\\\\Users\\\\user\\\\Desktop\\\\resume\\\\OpenCV\\\\puzzle_piece2.jpg',0)\n",
    "template = template[0:template.shape[0]/3, 35:template.shape[1]-35]\n",
    "cv2.imshow('feature?', template)\n",
    "cv2.waitKey(0)\n",
    "gray2 = cv2.cvtColor(blank_page, cv2.COLOR_BGR2GRAY)\n",
    "result2 = cv2.matchTemplate(gray2, template, cv2.TM_CCOEFF)\n",
    "min_val, max_val, min_loc, max_loc = cv2.minMaxLoc(result2)\n",
    "top_left = max_loc\n",
    "blank_page[top_left[1]:top_left[1]+template.shape[0], top_left[0]:top_left[0] + template.shape[1]] = (0,255,255)\n",
    "\n",
    "cv2.imshow('Where is Waldo?', blank_page)\n",
    "cv2.waitKey(0)\n",
    "cv2.destroyAllWindows()"
   ]
  },
  {
   "cell_type": "code",
   "execution_count": null,
   "metadata": {
    "collapsed": true
   },
   "outputs": [],
   "source": [
    "\n",
    "\n",
    "# Load input image and convert to grayscale\n",
    "image = cv2.imread('C:\\\\Users\\\\user\\\\Desktop\\\\resume\\\\OpenCV\\\\puzzle.jpg')\n",
    "cv2.imshow('Where is Waldo?', image)\n",
    "cv2.waitKey(0)\n",
    "gray = cv2.cvtColor(image, cv2.COLOR_BGR2GRAY)\n",
    "\n",
    "# Load Template image\n",
    "template = cv2.imread('C:\\\\Users\\\\user\\\\Desktop\\\\resume\\\\OpenCV\\\\puzzle_piece2.jpg',0)\n",
    "\n",
    "result = cv2.matchTemplate(gray, template, cv2.TM_CCOEFF)\n",
    "min_val, max_val, min_loc, max_loc = cv2.minMaxLoc(result)\n",
    "\n",
    "#Create Bounding Box\n",
    "top_left = max_loc\n",
    "bottom_right = (top_left[0] + 50, top_left[1] + 50)\n",
    "cv2.rectangle(image, top_left, bottom_right, (0,0,255), 5)\n",
    "\n",
    "cv2.imshow('Where is Waldo?', image)\n",
    "cv2.waitKey(0)\n",
    "cv2.destroyAllWindows()"
   ]
  },
  {
   "cell_type": "code",
   "execution_count": 27,
   "metadata": {
    "collapsed": false
   },
   "outputs": [
    {
     "name": "stdout",
     "output_type": "stream",
     "text": [
      "408\n",
      "439 517 291 407\n"
     ]
    },
    {
     "data": {
      "text/plain": [
       "-1"
      ]
     },
     "execution_count": 27,
     "metadata": {},
     "output_type": "execute_result"
    }
   ],
   "source": [
    "import cv2 \n",
    "import numpy as np\n",
    "\n",
    "###find contours in the complete puzzle\n",
    "\n",
    "# Load the complete puzzle\n",
    "puzzle_original = cv2.imread('C:\\\\Users\\\\user\\\\Desktop\\\\resume\\\\OpenCV\\\\puzzle.jpg')\n",
    "ret,puzzle_thresh = cv2.threshold(puzzle_original, 200, 255, cv2.THRESH_BINARY)\n",
    "\n",
    "kernel = np.ones((1,1), np.uint8)\n",
    "puzzle_thickline = cv2.erode(puzzle_thresh, kernel, iterations = 4)\n",
    "puzzle_gray = cv2.cvtColor(puzzle_thickline,cv2.COLOR_BGR2GRAY)\n",
    "cv2.line(puzzle_gray, (734,0), (734,521), (0,0,0), 2)\n",
    "cv2.line(puzzle_gray, (0,519), (736,519), (0,0,0), 2)\n",
    "contours, hierarchy = cv2.findContours(puzzle_gray, cv2.RETR_EXTERNAL, cv2.CHAIN_APPROX_NONE)\n",
    "\n",
    "print contours[1][1][0][1]\n",
    "i=1\n",
    "a = c = contours[i][1][0][0] #a is right boarder, c is left boarder\n",
    "b = d = contours[i][1][0][1] #b is top, d is bottom\n",
    "for j in range(len(contours[1])):\n",
    "    if contours[i][j][0][0] > a:\n",
    "        a = contours[i][j][0][0]\n",
    "    if contours[i][j][0][0] < c:\n",
    "        c = contours[i][j][0][0]\n",
    "    if contours[i][j][0][1] > b:\n",
    "        b = contours[i][j][0][1]\n",
    "    if contours[i][j][0][1] < d:\n",
    "        d = contours[i][j][0][1]\n",
    "image = np.zeros((521,736,3), np.uint8)\n",
    "image[:] = (255,255,255) \n",
    "print a,b,c,d\n",
    "cv2.drawContours(image, contours, 1, (0,0,0), 3)\n",
    "image = image[d:b, c:a]\n",
    "cv2.imshow('test', image)\n",
    "cv2.waitKey(0)"
   ]
  },
  {
   "cell_type": "code",
   "execution_count": null,
   "metadata": {
    "collapsed": true
   },
   "outputs": [],
   "source": [
    "# Grayscale\n",
    "puzzle_grey = cv2.cvtColor(puzzle_all,cv2.COLOR_BGR2GRAY)\n",
    "# Find Canny edges\n",
    "puzzle_edged = cv2.Canny(puzzle_grey, 100, 200)\n",
    "cv2.imshow('Contours', puzzle_edged)\n",
    "cv2.waitKey(0)\n",
    "\n",
    "# Finding Contours\n",
    "contours, hierarchy = cv2.findContours(puzzle_edged, cv2.RETR_LIST, cv2.CHAIN_APPROX_NONE)\n",
    "print(\"Number of Contours found = \" + str(len(contours)))\n",
    "cv2.drawContours(puzzle_all, contours, -1, (0,0,0), 3)\n",
    "cv2.imshow('Contours', puzzle_all)\n",
    "cv2.waitKey(0)\n"
   ]
  }
 ],
 "metadata": {
  "kernelspec": {
   "display_name": "Python 2",
   "language": "python",
   "name": "python2"
  },
  "language_info": {
   "codemirror_mode": {
    "name": "ipython",
    "version": 2
   },
   "file_extension": ".py",
   "mimetype": "text/x-python",
   "name": "python",
   "nbconvert_exporter": "python",
   "pygments_lexer": "ipython2",
   "version": "2.7.13"
  }
 },
 "nbformat": 4,
 "nbformat_minor": 2
}
